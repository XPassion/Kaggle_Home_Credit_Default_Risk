{
 "cells": [
  {
   "cell_type": "markdown",
   "metadata": {},
   "source": [
    "# Home Credit Default Rate\n"
   ]
  },
  {
   "cell_type": "code",
   "execution_count": 2,
   "metadata": {},
   "outputs": [
    {
     "name": "stdout",
     "output_type": "stream",
     "text": [
      "['README.md', 'LICENSE', '.ipynb_checkpoints', 'data', '.gitignore', 'HomeCredit.ipynb', '.git']\n"
     ]
    }
   ],
   "source": [
    "# download files from s3\n",
    "import os\n",
    "print(os.listdir('./'))"
   ]
  },
  {
   "cell_type": "code",
   "execution_count": 4,
   "metadata": {},
   "outputs": [
    {
     "name": "stdout",
     "output_type": "stream",
     "text": [
      "Completed 256.0 KiB/5.6 MiB (1.7 MiB/s) with 1 file(s) remaining\r",
      "Completed 512.0 KiB/5.6 MiB (3.3 MiB/s) with 1 file(s) remaining\r",
      "Completed 768.0 KiB/5.6 MiB (4.8 MiB/s) with 1 file(s) remaining\r",
      "Completed 1.0 MiB/5.6 MiB (6.4 MiB/s) with 1 file(s) remaining  \r",
      "Completed 1.2 MiB/5.6 MiB (7.9 MiB/s) with 1 file(s) remaining  \r",
      "Completed 1.5 MiB/5.6 MiB (9.4 MiB/s) with 1 file(s) remaining  \r",
      "Completed 1.8 MiB/5.6 MiB (10.9 MiB/s) with 1 file(s) remaining \r",
      "Completed 2.0 MiB/5.6 MiB (12.3 MiB/s) with 1 file(s) remaining \r",
      "Completed 2.2 MiB/5.6 MiB (13.7 MiB/s) with 1 file(s) remaining \r",
      "Completed 2.5 MiB/5.6 MiB (15.1 MiB/s) with 1 file(s) remaining \r",
      "Completed 2.8 MiB/5.6 MiB (16.4 MiB/s) with 1 file(s) remaining \r",
      "Completed 3.0 MiB/5.6 MiB (17.8 MiB/s) with 1 file(s) remaining \r",
      "Completed 3.2 MiB/5.6 MiB (19.0 MiB/s) with 1 file(s) remaining \r",
      "Completed 3.5 MiB/5.6 MiB (20.3 MiB/s) with 1 file(s) remaining \r",
      "Completed 3.8 MiB/5.6 MiB (21.5 MiB/s) with 1 file(s) remaining \r",
      "Completed 4.0 MiB/5.6 MiB (22.8 MiB/s) with 1 file(s) remaining \r",
      "Completed 4.2 MiB/5.6 MiB (23.9 MiB/s) with 1 file(s) remaining \r",
      "Completed 4.5 MiB/5.6 MiB (25.2 MiB/s) with 1 file(s) remaining \r",
      "Completed 4.8 MiB/5.6 MiB (26.3 MiB/s) with 1 file(s) remaining \r",
      "Completed 5.0 MiB/5.6 MiB (27.5 MiB/s) with 1 file(s) remaining \r",
      "Completed 5.2 MiB/5.6 MiB (28.6 MiB/s) with 1 file(s) remaining \r",
      "Completed 5.5 MiB/5.6 MiB (29.8 MiB/s) with 1 file(s) remaining \r",
      "Completed 5.6 MiB/5.6 MiB (30.1 MiB/s) with 1 file(s) remaining \r",
      "download: s3://quinnkaggle/application_test.csv.zip to data/application_test.csv.zip\n"
     ]
    }
   ],
   "source": [
    "%%bash -s \"$dataPath\"\n",
    "aws s3 cp s3://quinnkaggle/application_test.csv.zip ./data"
   ]
  },
  {
   "cell_type": "code",
   "execution_count": null,
   "metadata": {},
   "outputs": [],
   "source": []
  }
 ],
 "metadata": {
  "kernelspec": {
   "display_name": "Python 3",
   "language": "python",
   "name": "python3"
  },
  "language_info": {
   "codemirror_mode": {
    "name": "ipython",
    "version": 3
   },
   "file_extension": ".py",
   "mimetype": "text/x-python",
   "name": "python",
   "nbconvert_exporter": "python",
   "pygments_lexer": "ipython3",
   "version": "3.6.6"
  }
 },
 "nbformat": 4,
 "nbformat_minor": 2
}
